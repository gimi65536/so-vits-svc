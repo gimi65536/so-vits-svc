{
 "cells": [
  {
   "cell_type": "markdown",
   "metadata": {},
   "source": [
    "**改編自〈sovits3.0一键脚本（小狼躺平了，所以是深夜诗人修改版本,已更新32k/48k分支切换）.ipynb〉**\n",
    "\n",
    "https://colab.research.google.com/drive/1rCUOOVG7-XQlVZuWRAj5IpGrMM8t07pE?usp=sharing\n",
    "\n",
    "做了大幅(?)調整使其可用在vast.ai的機台上頭（運作映像為nvidia/cuda:12.0.1-runtime-ubuntu22.04 `00602486357e8c88c07157ddcd8fb2d7`），包含各種版本差異造成的坑。\n",
    "\n",
    "原Repo `innnky/so-vits-svc` 因為某些因素不見了，所以使用我自己的fork，預訓練模型採用 `therealvul/so-vits-svc-4.0-init` 提供的模型。\n",
    "\n",
    "註解繁中化。"
   ]
  },
  {
   "cell_type": "code",
   "execution_count": 1,
   "metadata": {
    "colab": {
     "base_uri": "https://localhost:8080/"
    },
    "id": "0gQcIZ8RsOkn",
    "outputId": "986cf91b-8d2f-4c39-a82b-f950eb2ddab5",
    "tags": []
   },
   "outputs": [
    {
     "name": "stdout",
     "output_type": "stream",
     "text": [
      "Tue Mar  7 09:20:33 2023       \n",
      "+-----------------------------------------------------------------------------+\n",
      "| NVIDIA-SMI 525.60.13    Driver Version: 525.60.13    CUDA Version: 12.0     |\n",
      "|-------------------------------+----------------------+----------------------+\n",
      "| GPU  Name        Persistence-M| Bus-Id        Disp.A | Volatile Uncorr. ECC |\n",
      "| Fan  Temp  Perf  Pwr:Usage/Cap|         Memory-Usage | GPU-Util  Compute M. |\n",
      "|                               |                      |               MIG M. |\n",
      "|===============================+======================+======================|\n",
      "|   0  NVIDIA GeForce ...  On   | 00000000:03:00.0 Off |                  N/A |\n",
      "|  0%   42C    P8     4W / 420W |      1MiB / 24576MiB |      0%      Default |\n",
      "|                               |                      |                  N/A |\n",
      "+-------------------------------+----------------------+----------------------+\n",
      "                                                                               \n",
      "+-----------------------------------------------------------------------------+\n",
      "| Processes:                                                                  |\n",
      "|  GPU   GI   CI        PID   Type   Process name                  GPU Memory |\n",
      "|        ID   ID                                                   Usage      |\n",
      "|=============================================================================|\n",
      "|  No running processes found                                                 |\n",
      "+-----------------------------------------------------------------------------+\n"
     ]
    }
   ],
   "source": [
    "# 查看顯示卡\n",
    "!nvidia-smi"
   ]
  },
  {
   "cell_type": "code",
   "execution_count": 1,
   "metadata": {
    "tags": []
   },
   "outputs": [],
   "source": [
    "from pathlib import Path\n",
    "\n",
    "root = Path('/root')\n",
    "sovits = root / 'so-vits-svc'"
   ]
  },
  {
   "cell_type": "code",
   "execution_count": 14,
   "metadata": {
    "colab": {
     "base_uri": "https://localhost:8080/"
    },
    "id": "LS0OPRkL4Pme",
    "outputId": "a52db68a-8feb-45a3-f0e1-165ab3e9d135",
    "tags": []
   },
   "outputs": [
    {
     "name": "stdout",
     "output_type": "stream",
     "text": [
      "Cloning into 'so-vits-svc'...\n",
      "remote: Enumerating objects: 983, done.\u001b[K\n",
      "remote: Counting objects: 100% (975/975), done.\u001b[K\n",
      "remote: Compressing objects: 100% (478/478), done.\u001b[K\n",
      "remote: Total 983 (delta 489), reused 921 (delta 462), pack-reused 8\u001b[K\n",
      "Receiving objects: 100% (983/983), 25.47 MiB | 20.28 MiB/s, done.\n",
      "Resolving deltas: 100% (489/489), done.\n",
      "/root/so-vits-svc\n"
     ]
    }
   ],
   "source": [
    "#@title Clone github Repo\n",
    "!git clone https://github.com/gimi65536/so-vits-svc -b 4.0\n",
    "%cd {sovits}"
   ]
  },
  {
   "cell_type": "code",
   "execution_count": null,
   "metadata": {
    "colab": {
     "base_uri": "https://localhost:8080/"
    },
    "id": "zXBLkXxL4T1O",
    "outputId": "a4ad72ed-e57a-43a2-9f69-e15c7c5b9dc5",
    "scrolled": true,
    "tags": []
   },
   "outputs": [],
   "source": [
    "# 安裝Dependencies\n",
    "!apt-get install build-essential python3.10-dev zip unzip -y\n",
    "!pip install pyworld praat-parselmouth librosa==0.9.2 fairseq matplotlib"
   ]
  },
  {
   "cell_type": "code",
   "execution_count": 3,
   "metadata": {
    "cellView": "form",
    "colab": {
     "base_uri": "https://localhost:8080/"
    },
    "id": "pCqf3W0d6ify",
    "outputId": "96d4b184-1c57-4a54-888b-5d9ad420838e",
    "tags": []
   },
   "outputs": [
    {
     "name": "stdout",
     "output_type": "stream",
     "text": [
      "--2023-03-12 10:27:45--  https://huggingface.co/therealvul/so-vits-svc-4.0-init/resolve/main/checkpoint_best_legacy_500.pt\n",
      "Resolving huggingface.co (huggingface.co)... 52.5.232.28, 54.146.163.17, 34.206.141.115, ...\n",
      "Connecting to huggingface.co (huggingface.co)|52.5.232.28|:443... connected.\n",
      "HTTP request sent, awaiting response... 302 Found\n",
      "Location: https://cdn-lfs.huggingface.co/repos/c7/21/c7214c5855c8c13ab3ad357ebc651593e9ca56b492469e678bdbda597a830f99/60d936ec5a566776fc392e69ad8b630d14eb588111233fe313436e200a7b187b?response-content-disposition=attachment%3B+filename*%3DUTF-8%27%27checkpoint_best_legacy_500.pt%3B+filename%3D%22checkpoint_best_legacy_500.pt%22%3B&Expires=1678876067&Policy=eyJTdGF0ZW1lbnQiOlt7IlJlc291cmNlIjoiaHR0cHM6Ly9jZG4tbGZzLmh1Z2dpbmdmYWNlLmNvL3JlcG9zL2M3LzIxL2M3MjE0YzU4NTVjOGMxM2FiM2FkMzU3ZWJjNjUxNTkzZTljYTU2YjQ5MjQ2OWU2NzhiZGJkYTU5N2E4MzBmOTkvNjBkOTM2ZWM1YTU2Njc3NmZjMzkyZTY5YWQ4YjYzMGQxNGViNTg4MTExMjMzZmUzMTM0MzZlMjAwYTdiMTg3Yj9yZXNwb25zZS1jb250ZW50LWRpc3Bvc2l0aW9uPSoiLCJDb25kaXRpb24iOnsiRGF0ZUxlc3NUaGFuIjp7IkFXUzpFcG9jaFRpbWUiOjE2Nzg4NzYwNjd9fX1dfQ__&Signature=CNG0ztWC89NTjRyrMoV-1%7EWE37bkCTXR5GsRdcIWi4D0FsM1phQbs%7EPRPKJRRc7MxyB2VrB6%7EXPHGyTxGXoRNpyhiBNBp-IMBOIy2LaURIHUVqHyrUp3TGZWpiM%7EZ%7EIZiXtNMEzHePCBG%7EAgjO4DwQNVerBWmw8V7wuWBCcZSQ92nIq9UIMXh%7E5YmoInRI7NFs6CuTk39tyrmYfgP7neYtaqGqjlD02et2pwfNe9kjK4JoV%7EBt-dG3x1ZCBMoD1LWg-KB4eaorNpnOjXOtAd5lvRZXfJub8EcigAxlvM979ZMIwpoVe8LAVZMft3HYg4JLhK2Ppaz-L9N3qbYMuLRQ__&Key-Pair-Id=KVTP0A1DKRTAX [following]\n",
      "--2023-03-12 10:27:46--  https://cdn-lfs.huggingface.co/repos/c7/21/c7214c5855c8c13ab3ad357ebc651593e9ca56b492469e678bdbda597a830f99/60d936ec5a566776fc392e69ad8b630d14eb588111233fe313436e200a7b187b?response-content-disposition=attachment%3B+filename*%3DUTF-8%27%27checkpoint_best_legacy_500.pt%3B+filename%3D%22checkpoint_best_legacy_500.pt%22%3B&Expires=1678876067&Policy=eyJTdGF0ZW1lbnQiOlt7IlJlc291cmNlIjoiaHR0cHM6Ly9jZG4tbGZzLmh1Z2dpbmdmYWNlLmNvL3JlcG9zL2M3LzIxL2M3MjE0YzU4NTVjOGMxM2FiM2FkMzU3ZWJjNjUxNTkzZTljYTU2YjQ5MjQ2OWU2NzhiZGJkYTU5N2E4MzBmOTkvNjBkOTM2ZWM1YTU2Njc3NmZjMzkyZTY5YWQ4YjYzMGQxNGViNTg4MTExMjMzZmUzMTM0MzZlMjAwYTdiMTg3Yj9yZXNwb25zZS1jb250ZW50LWRpc3Bvc2l0aW9uPSoiLCJDb25kaXRpb24iOnsiRGF0ZUxlc3NUaGFuIjp7IkFXUzpFcG9jaFRpbWUiOjE2Nzg4NzYwNjd9fX1dfQ__&Signature=CNG0ztWC89NTjRyrMoV-1%7EWE37bkCTXR5GsRdcIWi4D0FsM1phQbs%7EPRPKJRRc7MxyB2VrB6%7EXPHGyTxGXoRNpyhiBNBp-IMBOIy2LaURIHUVqHyrUp3TGZWpiM%7EZ%7EIZiXtNMEzHePCBG%7EAgjO4DwQNVerBWmw8V7wuWBCcZSQ92nIq9UIMXh%7E5YmoInRI7NFs6CuTk39tyrmYfgP7neYtaqGqjlD02et2pwfNe9kjK4JoV%7EBt-dG3x1ZCBMoD1LWg-KB4eaorNpnOjXOtAd5lvRZXfJub8EcigAxlvM979ZMIwpoVe8LAVZMft3HYg4JLhK2Ppaz-L9N3qbYMuLRQ__&Key-Pair-Id=KVTP0A1DKRTAX\n",
      "Resolving cdn-lfs.huggingface.co (cdn-lfs.huggingface.co)... 18.65.216.64, 18.65.216.11, 18.65.216.17, ...\n",
      "Connecting to cdn-lfs.huggingface.co (cdn-lfs.huggingface.co)|18.65.216.64|:443... connected.\n",
      "HTTP request sent, awaiting response... 200 OK\n",
      "Length: 1330114945 (1.2G) [binary/octet-stream]\n",
      "Saving to: ‘hubert/checkpoint_best_legacy_500.pt’\n",
      "\n",
      "checkpoint_best_leg 100%[===================>]   1.24G  26.0MB/s    in 50s     \n",
      "\n",
      "2023-03-12 10:28:37 (25.2 MB/s) - ‘hubert/checkpoint_best_legacy_500.pt’ saved [1330114945/1330114945]\n",
      "\n"
     ]
    }
   ],
   "source": [
    "# 下載必要模型文件\n",
    "!wget -P hubert/ https://huggingface.co/therealvul/so-vits-svc-4.0-init/resolve/main/checkpoint_best_legacy_500.pt"
   ]
  },
  {
   "cell_type": "markdown",
   "metadata": {
    "id": "k1qadJBFehMo",
    "tags": []
   },
   "source": [
    "# 資料集預處理預處理"
   ]
  },
  {
   "cell_type": "markdown",
   "metadata": {
    "id": "kBlju6Q3lSM6"
   },
   "source": [
    "該處理腳本可以一次性預處理多位角色，並且生成多角色的filelists以及對應的配置文件\n",
    "\n",
    "只需要將你的資料集按照以下文件結構放到dataset_raw資料夾下\n",
    "\n",
    "\n",
    "```\n",
    "dataset_raw\n",
    "├───speaker0\n",
    "│   ├───xxx1-xxx1.wav\n",
    "│   ├───...\n",
    "│   └───Lxx-0xx8.wav\n",
    "└───speaker1\n",
    "    ├───xx2-0xxx2.wav\n",
    "    ├───...\n",
    "    └───xxx7-xxx007.wav\n",
    "\n",
    "```\n",
    "\n",
    "\n"
   ]
  },
  {
   "cell_type": "code",
   "execution_count": 4,
   "metadata": {
    "tags": []
   },
   "outputs": [],
   "source": [
    "# 設定訓練資料集備份與還原的路徑，預設為/root\n",
    "DATA_PATH = root"
   ]
  },
  {
   "cell_type": "code",
   "execution_count": null,
   "metadata": {
    "colab": {
     "base_uri": "https://localhost:8080/"
    },
    "id": "U05CXlAipvJR",
    "outputId": "b8f27c10-56c4-4cca-8153-584100d3d428",
    "tags": []
   },
   "outputs": [],
   "source": [
    "# 資料集名稱（壓縮檔名稱不帶zip）\n",
    "DATASETNAME = \"michiru\"  #@param {type:\"string\"}\n",
    "# 壓縮檔路徑\n",
    "ZIP_PATH = root\n",
    "ZIP_NAME = ZIP_PATH / DATASETNAME\n",
    "\n",
    "!unzip -d {sovits / 'dataset_raw'} {ZIP_NAME}.zip"
   ]
  },
  {
   "cell_type": "code",
   "execution_count": null,
   "metadata": {
    "colab": {
     "base_uri": "https://localhost:8080/"
    },
    "id": "_ThKTzYs5CfL",
    "outputId": "72be4163-7c41-4dd3-e640-e45336e4d03a",
    "tags": []
   },
   "outputs": [],
   "source": [
    "# 重取樣到44100Hz生成配置文件\n",
    "!python3 resample.py"
   ]
  },
  {
   "cell_type": "code",
   "execution_count": null,
   "metadata": {
    "colab": {
     "base_uri": "https://localhost:8080/"
    },
    "id": "svITReeL5N8K",
    "outputId": "f10ae845-c205-4f7c-b702-a8ca6624d9be",
    "tags": []
   },
   "outputs": [],
   "source": [
    "# 劃分訓練集、\n",
    "!python3 preprocess_flist_config.py"
   ]
  },
  {
   "cell_type": "code",
   "execution_count": null,
   "metadata": {},
   "outputs": [],
   "source": [
    "# 自訂config..."
   ]
  },
  {
   "cell_type": "code",
   "execution_count": null,
   "metadata": {
    "cellView": "form",
    "colab": {
     "base_uri": "https://localhost:8080/"
    },
    "id": "xHUXMi836DMe",
    "outputId": "9695de70-5259-499b-e9df-02985e0b0b3c",
    "tags": []
   },
   "outputs": [],
   "source": [
    "# 生成hubert和f0\n",
    "!python3 preprocess_hubert_f0.py"
   ]
  },
  {
   "cell_type": "code",
   "execution_count": null,
   "metadata": {
    "colab": {
     "base_uri": "https://localhost:8080/"
    },
    "id": "Wo4OTmTAUXgj",
    "outputId": "def5e777-819e-451d-ea69-05c2ae3ca59e",
    "scrolled": true,
    "tags": []
   },
   "outputs": [],
   "source": [
    "# 至此，數據集預處理製作完畢，將資料集和相關文件保存到so-vits-svc資料夾中並自行下載，方便下次訓練使用\n",
    "\n",
    "# 壓縮dataset資料夾\n",
    "!zip -r dataset.zip dataset\n",
    "# 自訂壓縮檔名稱（不含zip）\n",
    "dataset_name_drive = \"44kmichiru_dataset\"\n",
    "DATASET_PATH_DRIVE = DATA_PATH / dataset_name_drive\n",
    "!mkdir -p {DATASET_PATH_DRIVE}\n",
    "\n",
    "!cp dataset.zip \"{DATASET_PATH_DRIVE}\"\n",
    "!cp configs/config.json \"{DATASET_PATH_DRIVE}\"\n",
    "!cp filelists/train.txt \"{DATASET_PATH_DRIVE}\"\n",
    "!cp filelists/test.txt \"{DATASET_PATH_DRIVE}\"\n",
    "!cp filelists/val.txt \"{DATASET_PATH_DRIVE}\"\n",
    "\n",
    "# 自行下載壓縮檔{DATA_PATH / dataset_name_drive}.zip"
   ]
  },
  {
   "cell_type": "code",
   "execution_count": 4,
   "metadata": {
    "colab": {
     "base_uri": "https://localhost:8080/"
    },
    "id": "P2G6v_6zblWK",
    "outputId": "4668210c-bf35-435e-b01a-3567d3364f4e",
    "tags": []
   },
   "outputs": [
    {
     "name": "stdout",
     "output_type": "stream",
     "text": [
      "Archive:  /root/48kmika_dataset/dataset.zip\n",
      "replace /content/so-vits-svc/dataset/48k/mika_voice/183845.wav? [y]es, [n]o, [A]ll, [N]one, [r]ename: ^C\n"
     ]
    }
   ],
   "source": [
    "# 已經預處理過資料集的話，就可以跳過預處理部分，直接解壓縮處理過的資料以及配置文件\n",
    "\n",
    "# 壓縮檔名稱（不含zip）\n",
    "back_up_name = \"44kmika_dataset\"\n",
    "BACK_UP_DATASET_PATH = DATA_PATH / back_up_name\n",
    "!unzip {BACK_UP_DATASET_PATH / 'dataset.zip'} -d .\n",
    "!cp {BACK_UP_DATASET_PATH / 'config.json'} configs/config.json \n",
    "!cp {BACK_UP_DATASET_PATH / 'val.txt'} filelists/val.txt\n",
    "!cp {BACK_UP_DATASET_PATH / 'train.txt'} filelists/train.txt\n",
    "!cp {BACK_UP_DATASET_PATH / 'test.txt'} filelists/test.txt\n",
    "\n",
    "# 將之前訓練過的模型G_xx.pth與D_xx.pth放到 logs/44k 底下……"
   ]
  },
  {
   "cell_type": "markdown",
   "metadata": {
    "id": "ENoH-pShel7w"
   },
   "source": [
    "# 訓練"
   ]
  },
  {
   "cell_type": "code",
   "execution_count": 21,
   "metadata": {
    "id": "l8J2ubh9KV5J",
    "tags": []
   },
   "outputs": [
    {
     "name": "stdout",
     "output_type": "stream",
     "text": [
      "--2023-03-12 11:01:32--  https://huggingface.co/therealvul/so-vits-svc-4.0-init/resolve/main/G_0.pth\n",
      "Resolving huggingface.co (huggingface.co)... 34.196.181.113, 54.88.208.113, 34.230.94.181, ...\n",
      "Connecting to huggingface.co (huggingface.co)|34.196.181.113|:443... connected.\n",
      "HTTP request sent, awaiting response... 302 Found\n",
      "Location: https://cdn-lfs.huggingface.co/repos/c7/21/c7214c5855c8c13ab3ad357ebc651593e9ca56b492469e678bdbda597a830f99/20a327c54e5731bed377bd38404bc32ab98e66a1b2777b0af4cc034d4d6914b0?response-content-disposition=attachment%3B+filename*%3DUTF-8%27%27G_0.pth%3B+filename%3D%22G_0.pth%22%3B&Expires=1678877760&Policy=eyJTdGF0ZW1lbnQiOlt7IlJlc291cmNlIjoiaHR0cHM6Ly9jZG4tbGZzLmh1Z2dpbmdmYWNlLmNvL3JlcG9zL2M3LzIxL2M3MjE0YzU4NTVjOGMxM2FiM2FkMzU3ZWJjNjUxNTkzZTljYTU2YjQ5MjQ2OWU2NzhiZGJkYTU5N2E4MzBmOTkvMjBhMzI3YzU0ZTU3MzFiZWQzNzdiZDM4NDA0YmMzMmFiOThlNjZhMWIyNzc3YjBhZjRjYzAzNGQ0ZDY5MTRiMD9yZXNwb25zZS1jb250ZW50LWRpc3Bvc2l0aW9uPSoiLCJDb25kaXRpb24iOnsiRGF0ZUxlc3NUaGFuIjp7IkFXUzpFcG9jaFRpbWUiOjE2Nzg4Nzc3NjB9fX1dfQ__&Signature=n1ZS0g3Of8Uc9eHUjjDAhKOFjWwTZGAJdmmRMuYOeS48Ur2nd5dUCHteBBXfaEC4LrLmE%7EJNlXPKoilSxjB9ZqWwZO-8wCPwiO3j1ml1j2jEhKak92qkNVrLIVt1zc86pFDNa5hfSju8rNwoZpx1mbrVnIDLICOFPYspnsf3uCLWwAlQ73wk3Trb5Hw0mINW5K46cRZvrv8ccgZSrKjjhLSs3KCochBTdKA8KAV0lAhtkBSY74WJKvOL-y7qCU6bOLvJpeSizkhVfvrdMUztpFdHlq6Ew2fLMsCKy9jWBY3kylNn3zrlrOXWsKc6%7ERyP9lvapvUfWVQnaZ%7E6POOYcQ__&Key-Pair-Id=KVTP0A1DKRTAX [following]\n",
      "--2023-03-12 11:01:33--  https://cdn-lfs.huggingface.co/repos/c7/21/c7214c5855c8c13ab3ad357ebc651593e9ca56b492469e678bdbda597a830f99/20a327c54e5731bed377bd38404bc32ab98e66a1b2777b0af4cc034d4d6914b0?response-content-disposition=attachment%3B+filename*%3DUTF-8%27%27G_0.pth%3B+filename%3D%22G_0.pth%22%3B&Expires=1678877760&Policy=eyJTdGF0ZW1lbnQiOlt7IlJlc291cmNlIjoiaHR0cHM6Ly9jZG4tbGZzLmh1Z2dpbmdmYWNlLmNvL3JlcG9zL2M3LzIxL2M3MjE0YzU4NTVjOGMxM2FiM2FkMzU3ZWJjNjUxNTkzZTljYTU2YjQ5MjQ2OWU2NzhiZGJkYTU5N2E4MzBmOTkvMjBhMzI3YzU0ZTU3MzFiZWQzNzdiZDM4NDA0YmMzMmFiOThlNjZhMWIyNzc3YjBhZjRjYzAzNGQ0ZDY5MTRiMD9yZXNwb25zZS1jb250ZW50LWRpc3Bvc2l0aW9uPSoiLCJDb25kaXRpb24iOnsiRGF0ZUxlc3NUaGFuIjp7IkFXUzpFcG9jaFRpbWUiOjE2Nzg4Nzc3NjB9fX1dfQ__&Signature=n1ZS0g3Of8Uc9eHUjjDAhKOFjWwTZGAJdmmRMuYOeS48Ur2nd5dUCHteBBXfaEC4LrLmE%7EJNlXPKoilSxjB9ZqWwZO-8wCPwiO3j1ml1j2jEhKak92qkNVrLIVt1zc86pFDNa5hfSju8rNwoZpx1mbrVnIDLICOFPYspnsf3uCLWwAlQ73wk3Trb5Hw0mINW5K46cRZvrv8ccgZSrKjjhLSs3KCochBTdKA8KAV0lAhtkBSY74WJKvOL-y7qCU6bOLvJpeSizkhVfvrdMUztpFdHlq6Ew2fLMsCKy9jWBY3kylNn3zrlrOXWsKc6%7ERyP9lvapvUfWVQnaZ%7E6POOYcQ__&Key-Pair-Id=KVTP0A1DKRTAX\n",
      "Resolving cdn-lfs.huggingface.co (cdn-lfs.huggingface.co)... 18.65.216.64, 18.65.216.33, 18.65.216.11, ...\n",
      "Connecting to cdn-lfs.huggingface.co (cdn-lfs.huggingface.co)|18.65.216.64|:443... connected.\n",
      "HTTP request sent, awaiting response... 200 OK\n",
      "Length: 180628517 (172M) [binary/octet-stream]\n",
      "Saving to: ‘logs/44k/G_0.pth’\n",
      "\n",
      "G_0.pth             100%[===================>] 172.26M  25.6MB/s    in 7.7s    \n",
      "\n",
      "2023-03-12 11:01:41 (22.5 MB/s) - ‘logs/44k/G_0.pth’ saved [180628517/180628517]\n",
      "\n",
      "--2023-03-12 11:01:42--  https://huggingface.co/therealvul/so-vits-svc-4.0-init/resolve/main/D_0.pth\n",
      "Resolving huggingface.co (huggingface.co)... 18.204.121.223, 50.19.21.137, 52.72.0.150, ...\n",
      "Connecting to huggingface.co (huggingface.co)|18.204.121.223|:443... connected.\n",
      "HTTP request sent, awaiting response... 302 Found\n",
      "Location: https://cdn-lfs.huggingface.co/repos/c7/21/c7214c5855c8c13ab3ad357ebc651593e9ca56b492469e678bdbda597a830f99/635be5c3409aaf3eec4135a1f5a771595683f3a6461ffc5bdea43441e50269a9?response-content-disposition=attachment%3B+filename*%3DUTF-8%27%27D_0.pth%3B+filename%3D%22D_0.pth%22%3B&Expires=1678878103&Policy=eyJTdGF0ZW1lbnQiOlt7IlJlc291cmNlIjoiaHR0cHM6Ly9jZG4tbGZzLmh1Z2dpbmdmYWNlLmNvL3JlcG9zL2M3LzIxL2M3MjE0YzU4NTVjOGMxM2FiM2FkMzU3ZWJjNjUxNTkzZTljYTU2YjQ5MjQ2OWU2NzhiZGJkYTU5N2E4MzBmOTkvNjM1YmU1YzM0MDlhYWYzZWVjNDEzNWExZjVhNzcxNTk1NjgzZjNhNjQ2MWZmYzViZGVhNDM0NDFlNTAyNjlhOT9yZXNwb25zZS1jb250ZW50LWRpc3Bvc2l0aW9uPSoiLCJDb25kaXRpb24iOnsiRGF0ZUxlc3NUaGFuIjp7IkFXUzpFcG9jaFRpbWUiOjE2Nzg4NzgxMDN9fX1dfQ__&Signature=wf7U1GhvT55VC-M18Sajbjv%7EKDJHta881C0QCpK%7Er4NlaQpz9k-9zHq8m7Kyzx2FbfWKbeqgi17ekJKc%7EwvpDw9%7EzZyyqgYJbGUrbYhWpGlMq83j3Grj9rYt8LnONnWpvHeCoA94pwbIHViM9agUV7AxAjPEzgVIFEzX%7EVXIZnq0jmRyHSJUi8pbQG39uOoGntsymnb65UlGzwWxzi9W1ZRwc0hEj3BSG8EQPdvmvjhJpbncAF1eVGDks%7EMxHayJeebYgJKz2Do%7E3uuXcbK8T7iJ0qcAPGCG9p7-zI-5NAA6R1NB2JecmoydZG2uVEPnRAOg78caWi1iS0WGyqSxCQ__&Key-Pair-Id=KVTP0A1DKRTAX [following]\n",
      "--2023-03-12 11:01:42--  https://cdn-lfs.huggingface.co/repos/c7/21/c7214c5855c8c13ab3ad357ebc651593e9ca56b492469e678bdbda597a830f99/635be5c3409aaf3eec4135a1f5a771595683f3a6461ffc5bdea43441e50269a9?response-content-disposition=attachment%3B+filename*%3DUTF-8%27%27D_0.pth%3B+filename%3D%22D_0.pth%22%3B&Expires=1678878103&Policy=eyJTdGF0ZW1lbnQiOlt7IlJlc291cmNlIjoiaHR0cHM6Ly9jZG4tbGZzLmh1Z2dpbmdmYWNlLmNvL3JlcG9zL2M3LzIxL2M3MjE0YzU4NTVjOGMxM2FiM2FkMzU3ZWJjNjUxNTkzZTljYTU2YjQ5MjQ2OWU2NzhiZGJkYTU5N2E4MzBmOTkvNjM1YmU1YzM0MDlhYWYzZWVjNDEzNWExZjVhNzcxNTk1NjgzZjNhNjQ2MWZmYzViZGVhNDM0NDFlNTAyNjlhOT9yZXNwb25zZS1jb250ZW50LWRpc3Bvc2l0aW9uPSoiLCJDb25kaXRpb24iOnsiRGF0ZUxlc3NUaGFuIjp7IkFXUzpFcG9jaFRpbWUiOjE2Nzg4NzgxMDN9fX1dfQ__&Signature=wf7U1GhvT55VC-M18Sajbjv%7EKDJHta881C0QCpK%7Er4NlaQpz9k-9zHq8m7Kyzx2FbfWKbeqgi17ekJKc%7EwvpDw9%7EzZyyqgYJbGUrbYhWpGlMq83j3Grj9rYt8LnONnWpvHeCoA94pwbIHViM9agUV7AxAjPEzgVIFEzX%7EVXIZnq0jmRyHSJUi8pbQG39uOoGntsymnb65UlGzwWxzi9W1ZRwc0hEj3BSG8EQPdvmvjhJpbncAF1eVGDks%7EMxHayJeebYgJKz2Do%7E3uuXcbK8T7iJ0qcAPGCG9p7-zI-5NAA6R1NB2JecmoydZG2uVEPnRAOg78caWi1iS0WGyqSxCQ__&Key-Pair-Id=KVTP0A1DKRTAX\n",
      "Resolving cdn-lfs.huggingface.co (cdn-lfs.huggingface.co)... 18.65.216.33, 18.65.216.64, 18.65.216.11, ...\n",
      "Connecting to cdn-lfs.huggingface.co (cdn-lfs.huggingface.co)|18.65.216.33|:443... connected.\n",
      "HTTP request sent, awaiting response... 200 OK\n",
      "Length: 187018591 (178M) [binary/octet-stream]\n",
      "Saving to: ‘logs/44k/D_0.pth’\n",
      "\n",
      "D_0.pth             100%[===================>] 178.35M  25.8MB/s    in 20s     \n",
      "\n",
      "2023-03-12 11:02:03 (9.07 MB/s) - ‘logs/44k/D_0.pth’ saved [187018591/187018591]\n",
      "\n"
     ]
    }
   ],
   "source": [
    "# 如果是首次訓練，則需事先下載預訓練模型\n",
    "!wget -P logs/44k/ https://huggingface.co/therealvul/so-vits-svc-4.0-init/resolve/main/G_0.pth\n",
    "!wget -P logs/44k/ https://huggingface.co/therealvul/so-vits-svc-4.0-init/resolve/main/D_0.pth"
   ]
  },
  {
   "cell_type": "code",
   "execution_count": null,
   "metadata": {
    "scrolled": true,
    "tags": []
   },
   "outputs": [],
   "source": [
    "!python3 train.py -c configs/config.json -m 44k"
   ]
  }
 ],
 "metadata": {
  "accelerator": "GPU",
  "colab": {
   "provenance": []
  },
  "gpuClass": "standard",
  "kernelspec": {
   "display_name": "Python 3 (ipykernel)",
   "language": "python",
   "name": "python3"
  },
  "language_info": {
   "codemirror_mode": {
    "name": "ipython",
    "version": 3
   },
   "file_extension": ".py",
   "mimetype": "text/x-python",
   "name": "python",
   "nbconvert_exporter": "python",
   "pygments_lexer": "ipython3",
   "version": "3.10.6"
  }
 },
 "nbformat": 4,
 "nbformat_minor": 4
}
