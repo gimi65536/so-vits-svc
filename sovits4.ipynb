{
 "cells": [
  {
   "cell_type": "markdown",
   "metadata": {},
   "source": [
    "**改編自〈sovits3.0一键脚本（小狼躺平了，所以是深夜诗人修改版本,已更新32k/48k分支切换）.ipynb〉**\n",
    "\n",
    "https://colab.research.google.com/drive/1rCUOOVG7-XQlVZuWRAj5IpGrMM8t07pE?usp=sharing\n",
    "\n",
    "做了大幅(?)調整使其可用在vast.ai的機台上頭（運作映像為nvidia/cuda:12.0.1-runtime-ubuntu22.04 `00602486357e8c88c07157ddcd8fb2d7`），包含各種版本差異造成的坑。\n",
    "\n",
    "原Repo `innnky/so-vits-svc` 因為某些因素不見了，所以使用我自己的fork，預訓練模型採用 `TachibanaKimika/so-vits-svc-4.0-models` 提供的模型。\n",
    "\n",
    "註解繁中化。"
   ]
  },
  {
   "cell_type": "code",
   "execution_count": 1,
   "metadata": {
    "colab": {
     "base_uri": "https://localhost:8080/"
    },
    "id": "0gQcIZ8RsOkn",
    "outputId": "986cf91b-8d2f-4c39-a82b-f950eb2ddab5",
    "tags": []
   },
   "outputs": [
    {
     "name": "stdout",
     "output_type": "stream",
     "text": [
      "Tue Mar  7 09:20:33 2023       \n",
      "+-----------------------------------------------------------------------------+\n",
      "| NVIDIA-SMI 525.60.13    Driver Version: 525.60.13    CUDA Version: 12.0     |\n",
      "|-------------------------------+----------------------+----------------------+\n",
      "| GPU  Name        Persistence-M| Bus-Id        Disp.A | Volatile Uncorr. ECC |\n",
      "| Fan  Temp  Perf  Pwr:Usage/Cap|         Memory-Usage | GPU-Util  Compute M. |\n",
      "|                               |                      |               MIG M. |\n",
      "|===============================+======================+======================|\n",
      "|   0  NVIDIA GeForce ...  On   | 00000000:03:00.0 Off |                  N/A |\n",
      "|  0%   42C    P8     4W / 420W |      1MiB / 24576MiB |      0%      Default |\n",
      "|                               |                      |                  N/A |\n",
      "+-------------------------------+----------------------+----------------------+\n",
      "                                                                               \n",
      "+-----------------------------------------------------------------------------+\n",
      "| Processes:                                                                  |\n",
      "|  GPU   GI   CI        PID   Type   Process name                  GPU Memory |\n",
      "|        ID   ID                                                   Usage      |\n",
      "|=============================================================================|\n",
      "|  No running processes found                                                 |\n",
      "+-----------------------------------------------------------------------------+\n"
     ]
    }
   ],
   "source": [
    "# 查看顯示卡\n",
    "!nvidia-smi"
   ]
  },
  {
   "cell_type": "code",
   "execution_count": 2,
   "metadata": {
    "tags": []
   },
   "outputs": [],
   "source": [
    "from pathlib import Path\n",
    "\n",
    "root = Path('/root')\n",
    "sovits = root / 'so-vits-svc'"
   ]
  },
  {
   "cell_type": "code",
   "execution_count": 5,
   "metadata": {
    "colab": {
     "base_uri": "https://localhost:8080/"
    },
    "id": "LS0OPRkL4Pme",
    "outputId": "a52db68a-8feb-45a3-f0e1-165ab3e9d135",
    "tags": []
   },
   "outputs": [
    {
     "name": "stdout",
     "output_type": "stream",
     "text": [
      "fatal: destination path 'so-vits-svc' already exists and is not an empty directory.\n",
      "/root/so-vits-svc\n"
     ]
    }
   ],
   "source": [
    "#@title Clone github Repo\n",
    "!git clone https://github.com/gimi65536/so-vits-svc -b 4.0\n",
    "%cd {sovits}"
   ]
  },
  {
   "cell_type": "code",
   "execution_count": null,
   "metadata": {
    "colab": {
     "base_uri": "https://localhost:8080/"
    },
    "id": "zXBLkXxL4T1O",
    "outputId": "a4ad72ed-e57a-43a2-9f69-e15c7c5b9dc5",
    "tags": []
   },
   "outputs": [],
   "source": [
    "# 安裝Dependencies\n",
    "!apt-get install build-essential zip -y\n",
    "!pip install pyworld praat-parselmouth librosa==0.9.2 fairseq\n"
   ]
  },
  {
   "cell_type": "code",
   "execution_count": null,
   "metadata": {
    "cellView": "form",
    "colab": {
     "base_uri": "https://localhost:8080/"
    },
    "id": "pCqf3W0d6ify",
    "outputId": "96d4b184-1c57-4a54-888b-5d9ad420838e",
    "tags": []
   },
   "outputs": [],
   "source": [
    "# 下載必要模型文件\n",
    "!wget -P hubert/ https://huggingface.co/TachibanaKimika/so-vits-svc-4.0-models/resolve/main/others/checkpoint_best_legacy_500.pt"
   ]
  },
  {
   "cell_type": "markdown",
   "metadata": {
    "id": "k1qadJBFehMo",
    "tags": []
   },
   "source": [
    "# 資料集預處理預處理"
   ]
  },
  {
   "cell_type": "markdown",
   "metadata": {
    "id": "kBlju6Q3lSM6"
   },
   "source": [
    "該處理腳本可以一次性預處理多位角色，並且生成多角色的filelists以及對應的配置文件\n",
    "\n",
    "只需要將你的資料集按照以下文件結構放到dataset_raw資料夾下\n",
    "\n",
    "\n",
    "```\n",
    "dataset_raw\n",
    "├───speaker0\n",
    "│   ├───xxx1-xxx1.wav\n",
    "│   ├───...\n",
    "│   └───Lxx-0xx8.wav\n",
    "└───speaker1\n",
    "    ├───xx2-0xxx2.wav\n",
    "    ├───...\n",
    "    └───xxx7-xxx007.wav\n",
    "\n",
    "```\n",
    "\n",
    "\n"
   ]
  },
  {
   "cell_type": "code",
   "execution_count": 3,
   "metadata": {
    "tags": []
   },
   "outputs": [],
   "source": [
    "# 設定訓練資料集備份與還原的路徑，預設為/root\n",
    "DATA_PATH = root"
   ]
  },
  {
   "cell_type": "code",
   "execution_count": null,
   "metadata": {
    "colab": {
     "base_uri": "https://localhost:8080/"
    },
    "id": "U05CXlAipvJR",
    "outputId": "b8f27c10-56c4-4cca-8153-584100d3d428",
    "tags": []
   },
   "outputs": [],
   "source": [
    "# 資料集名稱（壓縮檔名稱不帶zip）\n",
    "DATASETNAME = \"mika\"  #@param {type:\"string\"}\n",
    "# 壓縮檔路徑\n",
    "ZIP_PATH = root\n",
    "ZIP_NAME = ZIP_PATH / DATASETNAME\n",
    "\n",
    "!unzip -d {sovits / 'dataset_raw'} {ZIP_NAME}.zip"
   ]
  },
  {
   "cell_type": "code",
   "execution_count": 10,
   "metadata": {
    "colab": {
     "base_uri": "https://localhost:8080/"
    },
    "id": "_ThKTzYs5CfL",
    "outputId": "72be4163-7c41-4dd3-e640-e45336e4d03a",
    "tags": []
   },
   "outputs": [
    {
     "name": "stdout",
     "output_type": "stream",
     "text": [
      "./dataset_raw/mika_voice\n",
      "69it [00:00, 264.65it/s]\n"
     ]
    }
   ],
   "source": [
    "# 重取樣到44100Hz\n",
    "!python3 resample.py"
   ]
  },
  {
   "cell_type": "code",
   "execution_count": 11,
   "metadata": {
    "colab": {
     "base_uri": "https://localhost:8080/"
    },
    "id": "svITReeL5N8K",
    "outputId": "f10ae845-c205-4f7c-b702-a8ca6624d9be",
    "tags": []
   },
   "outputs": [
    {
     "name": "stdout",
     "output_type": "stream",
     "text": [
      "100%|████████████████████████████████████████████| 1/1 [00:00<00:00, 159.01it/s]\n",
      "Writing ./filelists/train.txt\n",
      "100%|███████████████████████████████████████| 65/65 [00:00<00:00, 711827.05it/s]\n",
      "Writing ./filelists/val.txt\n",
      "100%|██████████████████████████████████████████| 2/2 [00:00<00:00, 50840.05it/s]\n",
      "Writing ./filelists/test.txt\n",
      "100%|██████████████████████████████████████████| 2/2 [00:00<00:00, 52758.54it/s]\n",
      "Writing configs/config.json\n"
     ]
    }
   ],
   "source": [
    "# 劃分訓練集、生成配置文件\n",
    "!python3 preprocess_flist_config.py"
   ]
  },
  {
   "cell_type": "code",
   "execution_count": 14,
   "metadata": {
    "cellView": "form",
    "colab": {
     "base_uri": "https://localhost:8080/"
    },
    "id": "xHUXMi836DMe",
    "outputId": "9695de70-5259-499b-e9df-02985e0b0b3c",
    "tags": []
   },
   "outputs": [
    {
     "name": "stdout",
     "output_type": "stream",
     "text": [
      "[69]\n",
      "Loading hubert for content...\n",
      "load model(s) from hubert/checkpoint_best_legacy_500.pt\n",
      "DEBUG:git.cmd:Popen(['git', 'version'], cwd=/root/so-vits-svc, universal_newlines=False, shell=None, istream=None)\n",
      "DEBUG:git.cmd:Popen(['git', 'version'], cwd=/root/so-vits-svc, universal_newlines=False, shell=None, istream=None)\n",
      "INFO:fairseq.tasks.text_to_speech:Please install tensorboardX: pip install tensorboardX\n",
      "INFO:fairseq.tasks.hubert_pretraining:current directory is /root/so-vits-svc\n",
      "INFO:fairseq.tasks.hubert_pretraining:HubertPretrainingTask Config {'_name': 'hubert_pretraining', 'data': 'metadata', 'fine_tuning': False, 'labels': ['km'], 'label_dir': 'label', 'label_rate': 50.0, 'sample_rate': 16000, 'normalize': False, 'enable_padding': False, 'max_keep_size': None, 'max_sample_size': 250000, 'min_sample_size': 32000, 'single_target': False, 'random_crop': True, 'pad_audio': False}\n",
      "INFO:fairseq.models.hubert.hubert:HubertModel Config: {'_name': 'hubert', 'label_rate': 50.0, 'extractor_mode': default, 'encoder_layers': 12, 'encoder_embed_dim': 768, 'encoder_ffn_embed_dim': 3072, 'encoder_attention_heads': 12, 'activation_fn': gelu, 'layer_type': transformer, 'dropout': 0.1, 'attention_dropout': 0.1, 'activation_dropout': 0.0, 'encoder_layerdrop': 0.05, 'dropout_input': 0.1, 'dropout_features': 0.1, 'final_dim': 256, 'untie_final_proj': True, 'layer_norm_first': False, 'conv_feature_layers': '[(512,10,5)] + [(512,3,2)] * 4 + [(512,2,2)] * 2', 'conv_bias': False, 'logit_temp': 0.1, 'target_glu': False, 'feature_grad_mult': 0.1, 'mask_length': 10, 'mask_prob': 0.8, 'mask_selection': static, 'mask_other': 0.0, 'no_mask_overlap': False, 'mask_min_space': 1, 'mask_channel_length': 10, 'mask_channel_prob': 0.0, 'mask_channel_selection': static, 'mask_channel_other': 0.0, 'no_mask_channel_overlap': False, 'mask_channel_min_space': 1, 'conv_pos': 128, 'conv_pos_groups': 16, 'latent_temp': [2.0, 0.5, 0.999995], 'skip_masked': False, 'skip_nomask': False, 'checkpoint_activations': False, 'required_seq_len_multiple': 2, 'depthwise_conv_kernel_size': 31, 'attn_type': '', 'pos_enc_type': 'abs', 'fp16': False}\n",
      "Loaded hubert.\n",
      "100%|███████████████████████████████████████████| 69/69 [00:52<00:00,  1.31it/s]\n",
      "\u001b[0m"
     ]
    }
   ],
   "source": [
    "# 生成hubert和f0\n",
    "!python3 preprocess_hubert_f0.py"
   ]
  },
  {
   "cell_type": "code",
   "execution_count": null,
   "metadata": {
    "colab": {
     "base_uri": "https://localhost:8080/"
    },
    "id": "Wo4OTmTAUXgj",
    "outputId": "def5e777-819e-451d-ea69-05c2ae3ca59e",
    "scrolled": true,
    "tags": []
   },
   "outputs": [],
   "source": [
    "# 至此，數據集預處理製作完畢，將資料集和相關文件保存到so-vits-svc資料夾中並自行下載，方便下次訓練使用\n",
    "\n",
    "# 壓縮dataset資料夾\n",
    "!zip -r dataset.zip dataset\n",
    "# 自訂壓縮檔名稱（不含zip）\n",
    "dataset_name_drive = \"44kmika_dataset\"\n",
    "DATASET_PATH_DRIVE = DATA_PATH / dataset_name_drive\n",
    "!mkdir -p {DATASET_PATH_DRIVE}\n",
    "\n",
    "!cp dataset.zip \"{DATASET_PATH_DRIVE}\"\n",
    "!cp configs/config.json \"{DATASET_PATH_DRIVE}\"\n",
    "!cp filelists/train.txt \"{DATASET_PATH_DRIVE}\"\n",
    "!cp filelists/test.txt \"{DATASET_PATH_DRIVE}\"\n",
    "!cp filelists/val.txt \"{DATASET_PATH_DRIVE}\"\n",
    "\n",
    "# 自行下載壓縮檔{DATA_PATH / dataset_name_drive}.zip"
   ]
  },
  {
   "cell_type": "code",
   "execution_count": 4,
   "metadata": {
    "colab": {
     "base_uri": "https://localhost:8080/"
    },
    "id": "P2G6v_6zblWK",
    "outputId": "4668210c-bf35-435e-b01a-3567d3364f4e",
    "tags": []
   },
   "outputs": [
    {
     "name": "stdout",
     "output_type": "stream",
     "text": [
      "Archive:  /root/48kmika_dataset/dataset.zip\n",
      "replace /content/so-vits-svc/dataset/48k/mika_voice/183845.wav? [y]es, [n]o, [A]ll, [N]one, [r]ename: ^C\n"
     ]
    }
   ],
   "source": [
    "# 已經預處理過資料集的話，就可以跳過預處理部分，直接解壓縮處理過的資料以及配置文件\n",
    "\n",
    "# 壓縮檔名稱（不含zip）\n",
    "back_up_name = \"44kmika_dataset\"\n",
    "BACK_UP_DATASET_PATH = DATA_PATH / back_up_name\n",
    "!unzip {BACK_UP_DATASET_PATH / 'dataset.zip'} -d .\n",
    "!cp {BACK_UP_DATASET_PATH / 'config.json'} configs/config.json \n",
    "!cp {BACK_UP_DATASET_PATH / 'val.txt'} filelists/val.txt\n",
    "!cp {BACK_UP_DATASET_PATH / 'train.txt'} filelists/train.txt\n",
    "!cp {BACK_UP_DATASET_PATH / 'test.txt'} filelists/test.txt\n",
    "\n",
    "# 將之前訓練過的模型G_xx.pth與D_xx.pth放到 logs/44k 底下……"
   ]
  },
  {
   "cell_type": "markdown",
   "metadata": {
    "id": "ENoH-pShel7w"
   },
   "source": [
    "# 訓練"
   ]
  },
  {
   "cell_type": "code",
   "execution_count": null,
   "metadata": {
    "id": "l8J2ubh9KV5J",
    "tags": []
   },
   "outputs": [],
   "source": [
    "# 如果是首次訓練，則需事先下載預訓練模型\n",
    "!wget -P logs/44k/ https://huggingface.co/TachibanaKimika/so-vits-svc-4.0-models/resolve/main/others/G_0.pth\n",
    "!wget -P logs/44k/ https://huggingface.co/TachibanaKimika/so-vits-svc-4.0-models/resolve/main/others/D_0.pth"
   ]
  },
  {
   "cell_type": "code",
   "execution_count": null,
   "metadata": {
    "scrolled": true,
    "tags": []
   },
   "outputs": [],
   "source": [
    "!python3 train.py -c configs/config.json -m 44k"
   ]
  }
 ],
 "metadata": {
  "accelerator": "GPU",
  "colab": {
   "provenance": []
  },
  "gpuClass": "standard",
  "kernelspec": {
   "display_name": "Python 3 (ipykernel)",
   "language": "python",
   "name": "python3"
  },
  "language_info": {
   "codemirror_mode": {
    "name": "ipython",
    "version": 3
   },
   "file_extension": ".py",
   "mimetype": "text/x-python",
   "name": "python",
   "nbconvert_exporter": "python",
   "pygments_lexer": "ipython3",
   "version": "3.10.6"
  }
 },
 "nbformat": 4,
 "nbformat_minor": 4
}
